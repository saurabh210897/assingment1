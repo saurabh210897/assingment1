{
 "cells": [
  {
   "cell_type": "code",
   "execution_count": 1,
   "id": "e84028d4-4ce7-49a3-8bfb-1d15e2e3b743",
   "metadata": {},
   "outputs": [
    {
     "name": "stdin",
     "output_type": "stream",
     "text": [
      "enter the price 500\n"
     ]
    },
    {
     "name": "stdout",
     "output_type": "stream",
     "text": [
      "i will not purchase\n"
     ]
    }
   ],
   "source": [
    "price = int(input(\"enter the price\"))\n",
    "if price > 1000:\n",
    "    print(\"i will not purchase\")\n",
    "else:\n",
    "    print(\"i will not purchase\")"
   ]
  },
  {
   "cell_type": "code",
   "execution_count": 3,
   "id": "31aa59f5-7166-4e58-8165-0641e2c9ea50",
   "metadata": {},
   "outputs": [
    {
     "name": "stdin",
     "output_type": "stream",
     "text": [
      "enter the price 6000\n"
     ]
    },
    {
     "name": "stdout",
     "output_type": "stream",
     "text": [
      "i will not purchase\n",
      "this is too much\n"
     ]
    }
   ],
   "source": [
    "price = int(input(\"enter the price\"))\n",
    "if price > 1000:\n",
    "    print(\"i will not purchase\")\n",
    "    if price >5000:\n",
    "        print(\"this is too much\")\n",
    "    elif price <2000:\n",
    "        print(\"its ok\")\n"
   ]
  },
  {
   "cell_type": "code",
   "execution_count": 4,
   "id": "48470460-f70a-45f7-990d-7a67836cf428",
   "metadata": {},
   "outputs": [],
   "source": [
    "l = {1,2,3,4,5,6,7,8}"
   ]
  },
  {
   "cell_type": "code",
   "execution_count": 9,
   "id": "8d665e68-7c4e-478a-aad8-d2e59d519a51",
   "metadata": {},
   "outputs": [
    {
     "name": "stdout",
     "output_type": "stream",
     "text": [
      "2\n",
      "3\n",
      "4\n",
      "5\n",
      "6\n",
      "7\n",
      "8\n",
      "9\n"
     ]
    },
    {
     "data": {
      "text/plain": [
       "[2, 3, 4, 5, 6, 7, 8, 9]"
      ]
     },
     "execution_count": 9,
     "metadata": {},
     "output_type": "execute_result"
    }
   ],
   "source": [
    "l1=[]\n",
    "for i in l:\n",
    "    print(i+1)\n",
    "    l1.append(i+1)\n",
    "l1"
   ]
  },
  {
   "cell_type": "code",
   "execution_count": 10,
   "id": "d3e81f67-969d-49d3-adfc-f36ecac96937",
   "metadata": {},
   "outputs": [],
   "source": [
    "l = {'sudh','kumar','pwskills','course'}"
   ]
  },
  {
   "cell_type": "code",
   "execution_count": 13,
   "id": "53bb4e53-1901-416d-8850-781254a1de8a",
   "metadata": {},
   "outputs": [
    {
     "name": "stdout",
     "output_type": "stream",
     "text": [
      "sudh\n",
      "pwskills\n",
      "kumar\n",
      "course\n"
     ]
    },
    {
     "data": {
      "text/plain": [
       "['SUDH', 'PWSKILLS', 'KUMAR', 'COURSE']"
      ]
     },
     "execution_count": 13,
     "metadata": {},
     "output_type": "execute_result"
    }
   ],
   "source": [
    "l1=[]\n",
    "for i in l:\n",
    "    print(i)\n",
    "    l1.append(i.upper())\n",
    "l1"
   ]
  },
  {
   "cell_type": "code",
   "execution_count": 15,
   "id": "e2341db8-49f2-4533-b154-8d84949eaa64",
   "metadata": {},
   "outputs": [],
   "source": [
    "l = {1,2,3,4,5,6,7,8,'sudh','kumar',324,45.45}"
   ]
  },
  {
   "cell_type": "code",
   "execution_count": 16,
   "id": "4582b8ac-203f-422e-a4e5-e118b17c29d4",
   "metadata": {},
   "outputs": [],
   "source": [
    "l1_n=[]\n",
    "l2_s=[]\n",
    "for i in l:\n",
    "    if type(i) == int or type(i)==float:\n",
    "        l1_n.append(i)\n",
    "    else:\n",
    "        l2_s.append(i)"
   ]
  },
  {
   "cell_type": "code",
   "execution_count": 17,
   "id": "e7e8ccf0-8dac-46d1-b84b-54d68c0dd019",
   "metadata": {},
   "outputs": [
    {
     "data": {
      "text/plain": [
       "[1, 2, 3, 4, 5, 6, 7, 8, 324, 45.45]"
      ]
     },
     "execution_count": 17,
     "metadata": {},
     "output_type": "execute_result"
    }
   ],
   "source": [
    "l1_n"
   ]
  },
  {
   "cell_type": "code",
   "execution_count": 18,
   "id": "86ae0cec-cf71-4433-9ed4-4086804807a8",
   "metadata": {},
   "outputs": [
    {
     "data": {
      "text/plain": [
       "['sudh', 'kumar']"
      ]
     },
     "execution_count": 18,
     "metadata": {},
     "output_type": "execute_result"
    }
   ],
   "source": [
    "l2_s"
   ]
  },
  {
   "cell_type": "code",
   "execution_count": null,
   "id": "9cc21ba8-f5ea-48ce-8bf2-fd2480d6defa",
   "metadata": {},
   "outputs": [],
   "source": []
  }
 ],
 "metadata": {
  "kernelspec": {
   "display_name": "Python 3 (ipykernel)",
   "language": "python",
   "name": "python3"
  },
  "language_info": {
   "codemirror_mode": {
    "name": "ipython",
    "version": 3
   },
   "file_extension": ".py",
   "mimetype": "text/x-python",
   "name": "python",
   "nbconvert_exporter": "python",
   "pygments_lexer": "ipython3",
   "version": "3.10.8"
  }
 },
 "nbformat": 4,
 "nbformat_minor": 5
}
